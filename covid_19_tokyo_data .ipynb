{
 "cells": [
  {
   "cell_type": "code",
   "execution_count": 1,
   "metadata": {},
   "outputs": [],
   "source": [
    "import pandas as pd\n",
    "import numpy as np\n",
    "import matplotlib.pyplot as plt\n",
    "import matplotlib.dates as mdates\n",
    "import datetime\n",
    "import sys\n",
    "import matplotlib.dates as mdates\n",
    "# coding: utf-8\n",
    "%matplotlib inline"
   ]
  },
  {
   "cell_type": "code",
   "execution_count": 2,
   "metadata": {},
   "outputs": [],
   "source": [
    "from matplotlib.dates import DateFormatter\n",
    "\n",
    "# Handle date time conversions between pandas and matplotlib\n",
    "from pandas.plotting import register_matplotlib_converters\n",
    "register_matplotlib_converters()"
   ]
  },
  {
   "cell_type": "code",
   "execution_count": 3,
   "metadata": {},
   "outputs": [
    {
     "data": {
      "text/plain": [
       "Index(['No', '全国地方公共団体コード', '都道府県名', '市区町村名', '公表_年月日', '曜日', '発症_年月日',\n",
       "       '患者_居住地', '患者_年代', '患者_性別', '患者_属性', '患者_状態', '患者_症状', '患者_渡航歴の有無フラグ',\n",
       "       '備考', '退院済フラグ'],\n",
       "      dtype='object')"
      ]
     },
     "execution_count": 3,
     "metadata": {},
     "output_type": "execute_result"
    }
   ],
   "source": [
    "data = pd.read_csv('0328_tokyo_covid19_patients.csv',na_values=['不明'])\n",
    "data.columns"
   ]
  },
  {
   "cell_type": "code",
   "execution_count": 4,
   "metadata": {},
   "outputs": [
    {
     "name": "stdout",
     "output_type": "stream",
     "text": [
      "<class 'pandas.core.frame.DataFrame'>\n",
      "RangeIndex: 362 entries, 0 to 361\n",
      "Data columns (total 4 columns):\n",
      "date         362 non-null object\n",
      "age          358 non-null object\n",
      "sex          361 non-null object\n",
      "discharge    46 non-null float64\n",
      "dtypes: float64(1), object(3)\n",
      "memory usage: 11.4+ KB\n",
      "None\n",
      "         date  age sex  discharge\n",
      "0  2020-01-24  40代  男性        1.0\n",
      "1  2020-01-25  30代  女性        1.0\n",
      "2  2020-01-30  30代  女性        1.0\n",
      "3  2020-02-13  70代  男性        NaN\n",
      "4  2020-02-14  50代  女性        1.0\n"
     ]
    }
   ],
   "source": [
    "cols = ['公表_年月日','患者_年代','患者_性別', '退院済フラグ']\n",
    "# Published_date, Patient_Age, Patient_sex, Discharged flag\n",
    "new_data = data[cols]\n",
    "new_data.columns=['date','age','sex','discharge']\n",
    "print(new_data.info())\n",
    "print(new_data.head())"
   ]
  },
  {
   "cell_type": "code",
   "execution_count": 5,
   "metadata": {},
   "outputs": [
    {
     "name": "stdout",
     "output_type": "stream",
     "text": [
      "['40代' '30代' '70代' '50代' '80代' '60代' '20代' '10歳未満' '90代' '10代' nan]\n",
      "362\n",
      "358\n",
      "           date  age  sex  discharge\n",
      "191  2020-03-25  NaN   女性        NaN\n",
      "192  2020-03-25  NaN   男性        NaN\n",
      "193  2020-03-25  NaN   女性        NaN\n",
      "228  2020-03-26  NaN  NaN        NaN\n"
     ]
    }
   ],
   "source": [
    "print(new_data['age'].unique())\n",
    "print(len(new_data['age']))\n",
    "print(new_data.groupby('age')['age'].count().sum())\n",
    "print(new_data[new_data['age'].isnull()])"
   ]
  },
  {
   "cell_type": "code",
   "execution_count": 6,
   "metadata": {},
   "outputs": [
    {
     "data": {
      "text/html": [
       "<div>\n",
       "<style scoped>\n",
       "    .dataframe tbody tr th:only-of-type {\n",
       "        vertical-align: middle;\n",
       "    }\n",
       "\n",
       "    .dataframe tbody tr th {\n",
       "        vertical-align: top;\n",
       "    }\n",
       "\n",
       "    .dataframe thead th {\n",
       "        text-align: right;\n",
       "    }\n",
       "</style>\n",
       "<table border=\"1\" class=\"dataframe\">\n",
       "  <thead>\n",
       "    <tr style=\"text-align: right;\">\n",
       "      <th></th>\n",
       "      <th>date</th>\n",
       "      <th>age</th>\n",
       "      <th>sex</th>\n",
       "      <th>discharge</th>\n",
       "    </tr>\n",
       "  </thead>\n",
       "  <tbody>\n",
       "    <tr>\n",
       "      <th>0</th>\n",
       "      <td>2020-01-24</td>\n",
       "      <td>40代</td>\n",
       "      <td>男性</td>\n",
       "      <td>1.0</td>\n",
       "    </tr>\n",
       "    <tr>\n",
       "      <th>1</th>\n",
       "      <td>2020-01-25</td>\n",
       "      <td>30代</td>\n",
       "      <td>女性</td>\n",
       "      <td>1.0</td>\n",
       "    </tr>\n",
       "    <tr>\n",
       "      <th>2</th>\n",
       "      <td>2020-01-30</td>\n",
       "      <td>30代</td>\n",
       "      <td>女性</td>\n",
       "      <td>1.0</td>\n",
       "    </tr>\n",
       "    <tr>\n",
       "      <th>3</th>\n",
       "      <td>2020-02-13</td>\n",
       "      <td>70代</td>\n",
       "      <td>男性</td>\n",
       "      <td>NaN</td>\n",
       "    </tr>\n",
       "    <tr>\n",
       "      <th>4</th>\n",
       "      <td>2020-02-14</td>\n",
       "      <td>50代</td>\n",
       "      <td>女性</td>\n",
       "      <td>1.0</td>\n",
       "    </tr>\n",
       "  </tbody>\n",
       "</table>\n",
       "</div>"
      ],
      "text/plain": [
       "         date  age sex  discharge\n",
       "0  2020-01-24  40代  男性        1.0\n",
       "1  2020-01-25  30代  女性        1.0\n",
       "2  2020-01-30  30代  女性        1.0\n",
       "3  2020-02-13  70代  男性        NaN\n",
       "4  2020-02-14  50代  女性        1.0"
      ]
     },
     "execution_count": 6,
     "metadata": {},
     "output_type": "execute_result"
    }
   ],
   "source": [
    "new_data.head(5)"
   ]
  },
  {
   "cell_type": "code",
   "execution_count": 7,
   "metadata": {},
   "outputs": [
    {
     "name": "stderr",
     "output_type": "stream",
     "text": [
      "f:\\program files\\python36\\lib\\site-packages\\ipykernel_launcher.py:3: SettingWithCopyWarning: \n",
      "A value is trying to be set on a copy of a slice from a DataFrame.\n",
      "Try using .loc[row_indexer,col_indexer] = value instead\n",
      "\n",
      "See the caveats in the documentation: http://pandas.pydata.org/pandas-docs/stable/user_guide/indexing.html#returning-a-view-versus-a-copy\n",
      "  This is separate from the ipykernel package so we can avoid doing imports until\n",
      "f:\\program files\\python36\\lib\\site-packages\\ipykernel_launcher.py:6: SettingWithCopyWarning: \n",
      "A value is trying to be set on a copy of a slice from a DataFrame.\n",
      "Try using .loc[row_indexer,col_indexer] = value instead\n",
      "\n",
      "See the caveats in the documentation: http://pandas.pydata.org/pandas-docs/stable/user_guide/indexing.html#returning-a-view-versus-a-copy\n",
      "  \n",
      "f:\\program files\\python36\\lib\\site-packages\\ipykernel_launcher.py:9: SettingWithCopyWarning: \n",
      "A value is trying to be set on a copy of a slice from a DataFrame.\n",
      "Try using .loc[row_indexer,col_indexer] = value instead\n",
      "\n",
      "See the caveats in the documentation: http://pandas.pydata.org/pandas-docs/stable/user_guide/indexing.html#returning-a-view-versus-a-copy\n",
      "  if __name__ == '__main__':\n"
     ]
    }
   ],
   "source": [
    "new_data[\"sex\"] = (new_data[\"sex\"]\n",
    "                          .str.replace(\"男性\",\"M\")\n",
    "                          .str.replace(\"女性\",\"F\")\n",
    "                          )\n",
    "new_data[\"age\"] = (new_data[\"age\"]\n",
    "                          .str.replace(\"10歳未満\",\"0\")  # \"10歳未満\" means younger than 10years old. I changed it to 0.   \n",
    "                          )\n",
    "new_data[\"age\"] = (new_data[\"age\"]\n",
    "                          .str.replace(\"代\",\"\")\n",
    "                          )\n"
   ]
  },
  {
   "cell_type": "code",
   "execution_count": 8,
   "metadata": {},
   "outputs": [
    {
     "data": {
      "text/html": [
       "<div>\n",
       "<style scoped>\n",
       "    .dataframe tbody tr th:only-of-type {\n",
       "        vertical-align: middle;\n",
       "    }\n",
       "\n",
       "    .dataframe tbody tr th {\n",
       "        vertical-align: top;\n",
       "    }\n",
       "\n",
       "    .dataframe thead th {\n",
       "        text-align: right;\n",
       "    }\n",
       "</style>\n",
       "<table border=\"1\" class=\"dataframe\">\n",
       "  <thead>\n",
       "    <tr style=\"text-align: right;\">\n",
       "      <th></th>\n",
       "      <th>date</th>\n",
       "      <th>age</th>\n",
       "      <th>sex</th>\n",
       "      <th>discharge</th>\n",
       "    </tr>\n",
       "  </thead>\n",
       "  <tbody>\n",
       "    <tr>\n",
       "      <th>0</th>\n",
       "      <td>2020-01-24</td>\n",
       "      <td>40</td>\n",
       "      <td>M</td>\n",
       "      <td>1.0</td>\n",
       "    </tr>\n",
       "    <tr>\n",
       "      <th>1</th>\n",
       "      <td>2020-01-25</td>\n",
       "      <td>30</td>\n",
       "      <td>F</td>\n",
       "      <td>1.0</td>\n",
       "    </tr>\n",
       "    <tr>\n",
       "      <th>2</th>\n",
       "      <td>2020-01-30</td>\n",
       "      <td>30</td>\n",
       "      <td>F</td>\n",
       "      <td>1.0</td>\n",
       "    </tr>\n",
       "    <tr>\n",
       "      <th>3</th>\n",
       "      <td>2020-02-13</td>\n",
       "      <td>70</td>\n",
       "      <td>M</td>\n",
       "      <td>NaN</td>\n",
       "    </tr>\n",
       "    <tr>\n",
       "      <th>4</th>\n",
       "      <td>2020-02-14</td>\n",
       "      <td>50</td>\n",
       "      <td>F</td>\n",
       "      <td>1.0</td>\n",
       "    </tr>\n",
       "  </tbody>\n",
       "</table>\n",
       "</div>"
      ],
      "text/plain": [
       "         date age sex  discharge\n",
       "0  2020-01-24  40   M        1.0\n",
       "1  2020-01-25  30   F        1.0\n",
       "2  2020-01-30  30   F        1.0\n",
       "3  2020-02-13  70   M        NaN\n",
       "4  2020-02-14  50   F        1.0"
      ]
     },
     "execution_count": 8,
     "metadata": {},
     "output_type": "execute_result"
    }
   ],
   "source": [
    "new_data.head()"
   ]
  },
  {
   "cell_type": "code",
   "execution_count": 9,
   "metadata": {},
   "outputs": [
    {
     "name": "stdout",
     "output_type": "stream",
     "text": [
      "['40' '30' '70' '50' '80' '60' '20' '0' '90' '10' nan]\n",
      "['M' 'F' nan]\n",
      "[ 1. nan]\n",
      "['2020-01-24' '2020-01-25' '2020-01-30' '2020-02-13' '2020-02-14'\n",
      " '2020-02-15' '2020-02-16' '2020-02-18' '2020-02-19' '2020-02-21'\n",
      " '2020-02-22' '2020-02-24' '2020-02-26' '2020-02-27' '2020-02-29'\n",
      " '2020-03-01' '2020-03-03' '2020-03-04' '2020-03-05' '2020-03-06'\n",
      " '2020-03-07' '2020-03-10' '2020-03-11' '2020-03-12' '2020-03-13'\n",
      " '2020-03-14' '2020-03-15' '2020-03-17' '2020-03-18' '2020-03-19'\n",
      " '2020-03-20' '2020-03-21' '2020-03-22' '2020-03-23' '2020-03-24'\n",
      " '2020-03-25' '2020-03-26' '2020-03-27' '2020-03-28']\n",
      "4\n",
      "1\n",
      "316\n"
     ]
    }
   ],
   "source": [
    "print(new_data['age'].unique())\n",
    "print(new_data['sex'].unique())\n",
    "print(new_data['discharge'].unique())\n",
    "print(new_data['date'].unique())\n",
    "\n",
    "print(len(new_data[new_data['age'].isnull()]))\n",
    "print(len(new_data[new_data['sex'].isnull()]))\n",
    "print(len(new_data[new_data['discharge'].isnull()]))"
   ]
  },
  {
   "cell_type": "code",
   "execution_count": 10,
   "metadata": {},
   "outputs": [
    {
     "name": "stdout",
     "output_type": "stream",
     "text": [
      "         date age sex  discharge\n",
      "0  2020-01-24  40   M        1.0\n",
      "1  2020-01-25  30   F        1.0\n",
      "2  2020-01-30  30   F        1.0\n",
      "3  2020-02-13  70   M        NaN\n",
      "4  2020-02-14  50   F        1.0\n"
     ]
    },
    {
     "data": {
      "text/html": [
       "<div>\n",
       "<style scoped>\n",
       "    .dataframe tbody tr th:only-of-type {\n",
       "        vertical-align: middle;\n",
       "    }\n",
       "\n",
       "    .dataframe tbody tr th {\n",
       "        vertical-align: top;\n",
       "    }\n",
       "\n",
       "    .dataframe thead th {\n",
       "        text-align: right;\n",
       "    }\n",
       "</style>\n",
       "<table border=\"1\" class=\"dataframe\">\n",
       "  <thead>\n",
       "    <tr style=\"text-align: right;\">\n",
       "      <th></th>\n",
       "      <th>date</th>\n",
       "      <th>age</th>\n",
       "      <th>sex</th>\n",
       "      <th>discharge</th>\n",
       "    </tr>\n",
       "  </thead>\n",
       "  <tbody>\n",
       "    <tr>\n",
       "      <th>0</th>\n",
       "      <td>2020-01-24</td>\n",
       "      <td>40</td>\n",
       "      <td>M</td>\n",
       "      <td>1.0</td>\n",
       "    </tr>\n",
       "    <tr>\n",
       "      <th>1</th>\n",
       "      <td>2020-01-25</td>\n",
       "      <td>30</td>\n",
       "      <td>F</td>\n",
       "      <td>1.0</td>\n",
       "    </tr>\n",
       "    <tr>\n",
       "      <th>2</th>\n",
       "      <td>2020-01-30</td>\n",
       "      <td>30</td>\n",
       "      <td>F</td>\n",
       "      <td>1.0</td>\n",
       "    </tr>\n",
       "    <tr>\n",
       "      <th>3</th>\n",
       "      <td>2020-02-13</td>\n",
       "      <td>70</td>\n",
       "      <td>M</td>\n",
       "      <td>0.0</td>\n",
       "    </tr>\n",
       "    <tr>\n",
       "      <th>4</th>\n",
       "      <td>2020-02-14</td>\n",
       "      <td>50</td>\n",
       "      <td>F</td>\n",
       "      <td>1.0</td>\n",
       "    </tr>\n",
       "    <tr>\n",
       "      <th>...</th>\n",
       "      <td>...</td>\n",
       "      <td>...</td>\n",
       "      <td>...</td>\n",
       "      <td>...</td>\n",
       "    </tr>\n",
       "    <tr>\n",
       "      <th>357</th>\n",
       "      <td>2020-03-28</td>\n",
       "      <td>30</td>\n",
       "      <td>F</td>\n",
       "      <td>0.0</td>\n",
       "    </tr>\n",
       "    <tr>\n",
       "      <th>358</th>\n",
       "      <td>2020-03-28</td>\n",
       "      <td>60</td>\n",
       "      <td>M</td>\n",
       "      <td>0.0</td>\n",
       "    </tr>\n",
       "    <tr>\n",
       "      <th>359</th>\n",
       "      <td>2020-03-28</td>\n",
       "      <td>50</td>\n",
       "      <td>M</td>\n",
       "      <td>0.0</td>\n",
       "    </tr>\n",
       "    <tr>\n",
       "      <th>360</th>\n",
       "      <td>2020-03-28</td>\n",
       "      <td>50</td>\n",
       "      <td>M</td>\n",
       "      <td>0.0</td>\n",
       "    </tr>\n",
       "    <tr>\n",
       "      <th>361</th>\n",
       "      <td>2020-03-28</td>\n",
       "      <td>70</td>\n",
       "      <td>M</td>\n",
       "      <td>0.0</td>\n",
       "    </tr>\n",
       "  </tbody>\n",
       "</table>\n",
       "<p>362 rows × 4 columns</p>\n",
       "</div>"
      ],
      "text/plain": [
       "           date age sex  discharge\n",
       "0    2020-01-24  40   M        1.0\n",
       "1    2020-01-25  30   F        1.0\n",
       "2    2020-01-30  30   F        1.0\n",
       "3    2020-02-13  70   M        0.0\n",
       "4    2020-02-14  50   F        1.0\n",
       "..          ...  ..  ..        ...\n",
       "357  2020-03-28  30   F        0.0\n",
       "358  2020-03-28  60   M        0.0\n",
       "359  2020-03-28  50   M        0.0\n",
       "360  2020-03-28  50   M        0.0\n",
       "361  2020-03-28  70   M        0.0\n",
       "\n",
       "[362 rows x 4 columns]"
      ]
     },
     "execution_count": 10,
     "metadata": {},
     "output_type": "execute_result"
    }
   ],
   "source": [
    "new_data1 = new_data.copy()\n",
    "print(new_data1.head())\n",
    "new_data1.fillna(0)"
   ]
  },
  {
   "cell_type": "code",
   "execution_count": 11,
   "metadata": {},
   "outputs": [
    {
     "name": "stdout",
     "output_type": "stream",
     "text": [
      "           age sex  discharge\n",
      "date                         \n",
      "2020-01-24  40   M        1.0\n",
      "2020-01-25  30   F        1.0\n",
      "2020-01-30  30   F        1.0\n",
      "2020-02-13  70   M        NaN\n",
      "2020-02-14  50   F        1.0\n"
     ]
    }
   ],
   "source": [
    "new_data = new_data.set_index('date')\n",
    "#moved the 'DATE' column into the index\n",
    "\n",
    "new_data.index = pd.to_datetime(new_data.index)\n",
    "#convert the string 'DATE' column to a datetime dtype\n",
    "print(new_data.head())\n"
   ]
  },
  {
   "cell_type": "code",
   "execution_count": 16,
   "metadata": {},
   "outputs": [
    {
     "name": "stdout",
     "output_type": "stream",
     "text": [
      "age         0  10  20  30  40  50  60  70  80  90\n",
      "date                                             \n",
      "2020-01-24  0   0   0   0   1   0   0   0   0   0\n",
      "2020-01-25  0   0   0   1   0   0   0   0   0   0\n",
      "2020-01-30  0   0   0   1   0   0   0   0   0   0\n",
      "2020-02-13  0   0   0   0   0   0   0   1   0   0\n",
      "2020-02-14  0   0   0   0   0   1   0   1   0   0\n",
      "39\n"
     ]
    }
   ],
   "source": [
    "pv = new_data.pivot_table(values ='sex',index = ['date'], columns = ['age'], aggfunc = len, fill_value=0 )\n",
    "print(pv.head())\n",
    "print(len(pv.index))\n"
   ]
  },
  {
   "cell_type": "code",
   "execution_count": 17,
   "metadata": {},
   "outputs": [
    {
     "name": "stdout",
     "output_type": "stream",
     "text": [
      "age         0  10  20  30  40  50  60  70  80  90\n",
      "date                                             \n",
      "2020-01-24  0   0   0   0   1   0   0   0   0   0\n",
      "2020-01-25  0   0   0   1   0   0   0   0   0   0\n",
      "2020-01-30  0   0   0   1   0   0   0   0   0   0\n",
      "2020-02-13  0   0   0   0   0   0   0   1   0   0\n",
      "2020-02-14  0   0   0   0   0   1   0   1   0   0\n",
      "2020-02-15  0   0   0   0   2   2   1   2   1   0\n",
      "2020-02-16  0   0   0   2   0   0   3   0   0   0\n",
      "2020-02-18  0   0   1   0   0   1   0   0   1   0\n",
      "2020-02-19  0   0   0   0   0   0   0   3   0   0\n",
      "2020-02-21  0   0   0   0   0   2   0   1   0   0\n",
      "2020-02-22  0   0   0   0   0   0   1   0   0   0\n",
      "2020-02-24  0   0   0   1   1   1   0   0   0   0\n",
      "2020-02-26  0   0   0   0   0   0   0   2   1   0\n",
      "2020-02-27  0   0   0   0   0   0   1   0   0   0\n",
      "2020-02-29  0   0   1   0   0   0   0   0   0   0\n",
      "2020-03-01  0   0   0   0   0   1   0   1   0   0\n",
      "2020-03-03  0   0   0   0   0   1   0   0   0   0\n",
      "2020-03-04  0   0   0   1   1   1   0   0   1   0\n",
      "2020-03-05  2   0   1   1   0   0   0   2   1   1\n",
      "2020-03-06  0   0   0   2   1   1   0   1   0   1\n",
      "2020-03-07  0   0   0   0   1   3   0   2   0   0\n",
      "2020-03-10  0   0   0   0   1   1   0   1   0   0\n",
      "2020-03-11  0   0   0   1   1   2   1   0   1   0\n",
      "2020-03-12  0   0   0   0   0   0   1   1   0   0\n",
      "2020-03-13  0   0   0   0   0   1   0   1   0   0\n",
      "2020-03-14  0   0   0   2   3   1   3   1   0   0\n",
      "2020-03-15  0   0   1   1   0   0   1   0   0   0\n",
      "2020-03-17  0   0   0   0   4   5   3   0   0   0\n",
      "2020-03-18  0   0   3   1   3   0   0   2   0   0\n",
      "2020-03-19  0   0   1   0   3   1   1   0   1   0\n",
      "2020-03-20  0   0   2   0   2   3   3   1   0   0\n",
      "2020-03-21  0   0   1   1   3   2   0   0   0   0\n",
      "2020-03-22  0   0   0   0   1   0   1   0   0   0\n",
      "2020-03-23  0   0   0   2   6   3   1   4   0   0\n",
      "2020-03-24  0   1   3   5   2   2   3   1   0   0\n",
      "2020-03-25  0   2   4   2   9   7   8   2   1   3\n",
      "2020-03-26  1   0   5   7   9   5   5  11   2   1\n",
      "2020-03-27  0   0   3   9  11   1   4   7   2   3\n",
      "2020-03-28  1   1   6   8   8   6  10  17   6   0\n"
     ]
    },
    {
     "data": {
      "image/png": "[encoded data removed]",
      "text/plain": [
       "<Figure size 864x576 with 1 Axes>"
      ]
     },
     "metadata": {
      "needs_background": "light"
     },
     "output_type": "display_data"
    }
   ],
   "source": [
    "# Create figure and plot space\n",
    "fig, ax = plt.subplots(figsize=(12, 8))\n",
    "pv = new_data.pivot_table(values ='sex',index = ['date'], columns = ['age'], aggfunc = len, fill_value=0)\n",
    "print(pv)\n",
    "pv.index = pv.index.strftime('%m-%d')\n",
    "ax.bar(pv.index.values,   pv['0'] , color='black', label=\"Age 0\")\n",
    "ax.bar(pv.index.values,   pv['10'] , bottom=pv['0'], color='olive', label=\"Age 10\")\n",
    "ax.bar(pv.index.values,   pv['20'] , bottom=pv['10']+pv['0'], color='green', label=\"Age 20\")\n",
    "ax.bar(pv.index.values,   pv['30'] , bottom=pv['20']+pv['10']+pv['0'], color='yellow', label=\"Age 30\")\n",
    "ax.bar(pv.index.values,   pv['40'] , bottom=pv['30']+pv['20']+pv['10']+pv['0'], color='blue', label=\"Age 40\")\n",
    "ax.bar(pv.index.values,   pv['50'] , bottom=pv['40']+pv['30']+pv['20']+pv['10']+pv['0'], color='red', label=\"Age 50\")\n",
    "ax.bar(pv.index.values,   pv['60'] , bottom=pv['50']+pv['40']+pv['30']+pv['20']+pv['10']+pv['0'], color='violet', label=\"Age 60\")\n",
    "ax.bar(pv.index.values,   pv['70'] , bottom=pv['60']+pv['50']+pv['40']+pv['30']+pv['20']+pv['10']+pv['0'], color='wheat', label=\"Age 70\")\n",
    "ax.bar(pv.index.values,   pv['80'] , bottom=pv['70']+pv['60']+pv['50']+pv['40']+pv['30']+pv['20']+pv['10']+pv['0'], color='lime', label=\"Age 80\")\n",
    "ax.bar(pv.index.values,   pv['90'] , bottom=pv['80']+pv['70']+pv['60']+pv['50']+pv['40']+pv['30']+pv['20']+pv['10']+pv['0'], color='plum', label=\"Age 90\")\n",
    "\n",
    "\n",
    "ax.legend(loc='upper left')\n",
    "ax.set_title('Infected people by age in Tokyo', fontsize=12)\n",
    "plt.xticks(rotation=90)\n",
    "plt.show()"
   ]
  },
  {
   "cell_type": "code",
   "execution_count": 18,
   "metadata": {},
   "outputs": [
    {
     "data": {
      "image/png": "[encoded data removed]",
      "text/plain": [
       "<Figure size 864x576 with 1 Axes>"
      ]
     },
     "metadata": {
      "needs_background": "light"
     },
     "output_type": "display_data"
    }
   ],
   "source": [
    "all_cases_df = pd.DataFrame(new_data1['date'].value_counts())\n",
    "all_cases_df.reset_index(inplace=True)\n",
    "all_cases_df['new_date'] = pd.to_datetime(all_cases_df['index'])\n",
    "all_cases_df.drop(['index'], axis=1, inplace=True)\n",
    "all_cases_df.rename(columns={\"date\":\"Total_Cases\"}, inplace=True)\n",
    "all_cases_df.sort_values('new_date', inplace=True)\n",
    "all_cases_df.index = all_cases_df.new_date\n",
    "all_cases_df.drop('new_date', axis=1, inplace=True)\n",
    "\n",
    "discharge_df = pd.DataFrame(new_data1.groupby('date')['discharge'].sum())\n",
    "discharge_df.reset_index(inplace=True)\n",
    "discharge_df['new_date'] = pd.to_datetime(discharge_df['date'])\n",
    "discharge_df.drop(['date'], axis=1, inplace=True)\n",
    "discharge_df.rename(columns={\"discharge\":\"Discharged_Cases\", \"new_date\":\"Date\"}, inplace=True)\n",
    "discharge_df.index = discharge_df.Date\n",
    "discharge_df.drop(['Date'], axis=1, inplace=True)\n",
    "\n",
    "#Plotting Code\n",
    "# Create figure and plot space\n",
    "fig, ax = plt.subplots(figsize=(12, 8))\n",
    "\n",
    "# Add x-axis and y-axis\n",
    "all_cases_df.index = all_cases_df.index.strftime('%m-%d')\n",
    "discharge_df.index = discharge_df.index.strftime('%m-%d')\n",
    "\n",
    "\n",
    "ax.bar(all_cases_df.index.values, all_cases_df.Total_Cases, color='Yellow', label=\"All Cases\", alpha=1)\n",
    "ax.bar(discharge_df.index.values, discharge_df.Discharged_Cases, color='Red', label=\"Discharged Cases\", alpha=1)\n",
    "\n",
    "ax.legend(loc='upper left')\n",
    "ax.set_title('All Cases vs Discharged Cases Trend', fontsize=12)\n",
    "\n",
    "\n",
    "plt.xticks(rotation=90)\n",
    "\n",
    "plt.show()\n"
   ]
  },
  {
   "cell_type": "code",
   "execution_count": 19,
   "metadata": {},
   "outputs": [
    {
     "data": {
      "image/png": "[encoded data removed]",
      "text/plain": [
       "<Figure size 864x576 with 1 Axes>"
      ]
     },
     "metadata": {
      "needs_background": "light"
     },
     "output_type": "display_data"
    }
   ],
   "source": [
    "all_cases_df = pd.DataFrame(new_data1['date'].value_counts())\n",
    "all_cases_df.reset_index(inplace=True)\n",
    "all_cases_df['new_date'] = pd.to_datetime(all_cases_df['index'])\n",
    "all_cases_df.drop(['index'], axis=1, inplace=True)\n",
    "all_cases_df.rename(columns={\"date\":\"Total_Cases\"}, inplace=True)\n",
    "all_cases_df.sort_values('new_date', inplace=True)\n",
    "all_cases_df.index = all_cases_df.new_date\n",
    "all_cases_df.drop('new_date', axis=1, inplace=True)\n",
    "\n",
    "test = pd.DataFrame(new_data1.groupby(['date','sex'])['sex'].count())\n",
    "test.rename(columns={\"sex\":\"Cases\"}, inplace=True)\n",
    "test.reset_index(inplace=True)\n",
    "test['date'] = pd.to_datetime(test['date'])\n",
    "test.index = test.date\n",
    "test[\"Male_Count\"] = np.select([test.sex == 'M'], [test.Cases], default=0)\n",
    "test[\"FeMale_Count\"] = np.select([test.sex == 'F'], [test.Cases], default=0)\n",
    "\n",
    "#Plotting Code\n",
    "# Create figure and plot space\n",
    "fig, ax = plt.subplots(figsize=(12, 8))\n",
    "\n",
    "all_cases_df.index = all_cases_df.index.strftime('%m-%d')\n",
    "test.index = test.index.strftime('%m-%d')\n",
    "\n",
    "# Add x-axis and y-axis\n",
    "ax.bar(all_cases_df.index.values, all_cases_df.Total_Cases, color='Blue', label=\"All Cases\", alpha=1)\n",
    "ax.bar(test.index.values, test['Male_Count'], color='Red', label=\"Male Cases\", alpha=1)\n",
    "ax.bar(test.index.values, test['FeMale_Count'], color='Yellow', label=\"FeMale Cases\", alpha=1)\n",
    "\n",
    "ax.legend(loc='upper left')\n",
    "ax.set_title('All Cases vs Males & Females Cases Trend', fontsize=12)\n",
    "plt.xticks(rotation=90)\n",
    "\n",
    "plt.show()\n",
    "\n"
   ]
  },
  {
   "cell_type": "code",
   "execution_count": null,
   "metadata": {},
   "outputs": [],
   "source": []
  }
 ],
 "metadata": {
  "kernelspec": {
   "display_name": "Python 3",
   "language": "python",
   "name": "python3"
  },
  "language_info": {
   "codemirror_mode": {
    "name": "ipython",
    "version": 3
   },
   "file_extension": ".py",
   "mimetype": "text/x-python",
   "name": "python",
   "nbconvert_exporter": "python",
   "pygments_lexer": "ipython3",
   "version": "3.7.7"
  }
 },
 "nbformat": 4,
 "nbformat_minor": 2
}
